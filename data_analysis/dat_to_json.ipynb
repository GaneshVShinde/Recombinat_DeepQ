{
 "cells": [
  {
   "cell_type": "code",
   "execution_count": 2,
   "metadata": {},
   "outputs": [],
   "source": [
    "import pickle\n",
    "import os\n",
    "import json"
   ]
  },
  {
   "cell_type": "code",
   "execution_count": 4,
   "metadata": {},
   "outputs": [],
   "source": [
    "original_folder = './data/Study 4/'\n",
    "new_folder = './data/Study 4 json/'\n",
    "\n",
    "files = os.listdir(original_folder)\n",
    "\n",
    "for file in files:\n",
    "    temp = open(original_folder+file, 'rb+')\n",
    "    data = pickle.load(temp)\n",
    "    for agent in data['agents']:\n",
    "        agent['q'] = ''\n",
    "    newFile = new_folder+file.split('.')[0]+'.json'\n",
    "    with open(newFile, 'w') as outfile:\n",
    "        json.dump(data, outfile)"
   ]
  },
  {
   "cell_type": "code",
   "execution_count": 4,
   "metadata": {},
   "outputs": [],
   "source": [
    "# folder = './data/Study 1/'\n",
    "# file = 'Study1_0.dat'\n",
    "\n",
    "# temp = open(folder+file, 'rb+')\n",
    "# data = pickle.load(temp)\n",
    "# data['agents']"
   ]
  },
  {
   "cell_type": "code",
   "execution_count": null,
   "metadata": {
    "collapsed": true
   },
   "outputs": [],
   "source": []
  }
 ],
 "metadata": {
  "kernelspec": {
   "display_name": "Python 3",
   "language": "python",
   "name": "python3"
  },
  "language_info": {
   "codemirror_mode": {
    "name": "ipython",
    "version": 3
   },
   "file_extension": ".py",
   "mimetype": "text/x-python",
   "name": "python",
   "nbconvert_exporter": "python",
   "pygments_lexer": "ipython3",
   "version": "3.6.5"
  }
 },
 "nbformat": 4,
 "nbformat_minor": 2
}
